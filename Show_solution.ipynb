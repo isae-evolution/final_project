{
  "nbformat": 4,
  "nbformat_minor": 0,
  "metadata": {
    "colab": {
      "provenance": []
    },
    "kernelspec": {
      "name": "python3",
      "display_name": "Python 3"
    },
    "language_info": {
      "name": "python"
    }
  },
  "cells": [
    {
      "cell_type": "code",
      "execution_count": null,
      "metadata": {
        "id": "-dcALHdJgVbd"
      },
      "outputs": [],
      "source": [
        "def load_solution(name=\"solution.json\"):\n",
        "    with open(name, \"r\") as f:\n",
        "        cfg = json.load(f)\n",
        "    cfg[\"robot\"] = np.array(cfg[\"robot\"])\n",
        "    cfg[\"genes\"] = np.array(cfg[\"genes\"])\n",
        "    a = Agent(Network, cfg, genes=cfg[\"genes\"])\n",
        "    a.fitness = cfg[\"fitness\"]\n",
        "    return a"
      ]
    },
    {
      "cell_type": "code",
      "source": [
        "a = load_solution(name=\"solution.json\")\n",
        "cfg = a.config\n",
        "env = make_env(cfg[\"env_name\"], robot=cfg[\"robot\"])\n",
        "a.fitness = evaluate(a, env, render=True)\n",
        "env.close()\n",
        "print(a.fitness)"
      ],
      "metadata": {
        "id": "wdoKqveIgdtI"
      },
      "execution_count": null,
      "outputs": []
    }
  ]
}