{
  "cells": [
    {
      "cell_type": "markdown",
      "id": "D3HYYIkHzzun",
      "metadata": {
        "id": "D3HYYIkHzzun"
      },
      "source": [
        "# Neuroevolution on EvoGym"
      ]
    },
    {
      "cell_type": "markdown",
      "id": "wL07VKpMz4e4",
      "metadata": {
        "id": "wL07VKpMz4e4"
      },
      "source": [
        "## Getting started"
      ]
    },
    {
      "cell_type": "markdown",
      "id": "4fX-mCWU0O0y",
      "metadata": {
        "id": "4fX-mCWU0O0y"
      },
      "source": [
        "Check that the following line can run. If so, you have evogym installed! Otherwise, you need to install it."
      ]
    },
    {
      "cell_type": "code",
      "execution_count": 1,
      "id": "AXWY14IH0OL6",
      "metadata": {
        "id": "AXWY14IH0OL6"
      },
      "outputs": [],
      "source": [
        "# !git clone --recurse-submodules https://github.com/d9w/evogym.git\n",
        "# !git clone https://github.com/d9w/evolution.git\n",
        "# !sudo apt-get install xorg-dev libglu1-mesa-dev libglew-dev\n",
        "# !pip install ./evogym/\n",
        "from evogym import sample_robot"
      ]
    },
    {
      "cell_type": "markdown",
      "id": "AIBLowucz6hc",
      "metadata": {
        "id": "AIBLowucz6hc"
      },
      "source": [
        "To install evogym, uncomment and run the following commands **once**. As soon as evogym is installed, comment these lines again."
      ]
    },
    {
      "cell_type": "code",
      "execution_count": 1,
      "id": "4aqig6T9yyYY",
      "metadata": {
        "id": "4aqig6T9yyYY"
      },
      "outputs": [],
      "source": []
    },
    {
      "cell_type": "code",
      "execution_count": 1,
      "id": "3a63e670",
      "metadata": {
        "id": "3a63e670"
      },
      "outputs": [],
      "source": []
    },
    {
      "cell_type": "code",
      "execution_count": 2,
      "id": "e28ee6b7",
      "metadata": {
        "id": "e28ee6b7"
      },
      "outputs": [],
      "source": [
        "\n",
        "import torch\n",
        "import torch.nn as nn\n",
        "import torch.nn.functional as F\n",
        "import numpy as np\n",
        "import copy\n",
        "import matplotlib.pyplot as plt\n",
        "from matplotlib import animation\n",
        "import gym\n",
        "import evogym.envs\n",
        "from evogym import sample_robot\n",
        "from evogym.utils import get_full_connectivity\n",
        "from tqdm import tqdm\n",
        "from multiprocessing import Pool"
      ]
    },
    {
      "cell_type": "markdown",
      "id": "94b39cfe",
      "metadata": {
        "id": "94b39cfe"
      },
      "source": [
        "## Agent"
      ]
    },
    {
      "cell_type": "code",
      "execution_count": 35,
      "id": "07787020",
      "metadata": {
        "id": "07787020"
      },
      "outputs": [],
      "source": [
        "class Network(nn.Module):\n",
        "    def __init__(self, n_in, h_size, n_out):\n",
        "        super().__init__()\n",
        "        self.fc1 = nn.Linear(n_in, h_size)\n",
        "        self.fc2 = nn.Linear(h_size, h_size)\n",
        "        self.fc3 = nn.Linear(h_size, n_out)\n",
        " \n",
        "        self.n_out = n_out\n",
        "\n",
        "    def reset(self):\n",
        "        pass\n",
        "    \n",
        "    def forward(self, x):\n",
        "        x = self.fc1(x)\n",
        "        x = F.relu(x)\n",
        "\n",
        "        x = self.fc2(x)\n",
        "        x = F.relu(x)\n",
        "\n",
        "        x = self.fc3(x)\n",
        "        return x"
      ]
    },
    {
      "cell_type": "code",
      "execution_count": 36,
      "id": "00815249",
      "metadata": {
        "id": "00815249"
      },
      "outputs": [],
      "source": [
        "class Agent:\n",
        "    def __init__(self, Net, config, genes = None):\n",
        "        self.config = config\n",
        "        self.Net = Net\n",
        "        self.model = None\n",
        "        self.fitness = None\n",
        "\n",
        "        self.device = torch.device(\n",
        "            \"cuda\" if torch.cuda.is_available() else \"cpu\")\n",
        "\n",
        "        self.make_network()\n",
        "        if genes is not None:\n",
        "            self.genes = genes\n",
        "\n",
        "    def __repr__(self):  # pragma: no cover\n",
        "        return f\"Agent {self.model} > fitness={self.fitness}\"\n",
        "\n",
        "    def __str__(self):  # pragma: no cover\n",
        "        return self.__repr__()\n",
        "\n",
        "    def make_network(self):\n",
        "        n_in = self.config[\"n_in\"]\n",
        "        h_size = self.config[\"h_size\"]\n",
        "        n_out = self.config[\"n_out\"]\n",
        "        self.model = self.Net(n_in, h_size, n_out).to(self.device).double()\n",
        "        return self\n",
        "\n",
        "    @property\n",
        "    def genes(self):\n",
        "        if self.model is None:\n",
        "            return None\n",
        "        with torch.no_grad():\n",
        "            params = self.model.parameters()\n",
        "            vec = torch.nn.utils.parameters_to_vector(params)\n",
        "        return vec.cpu().double().numpy()\n",
        "\n",
        "    @genes.setter\n",
        "    def genes(self, params):\n",
        "        if self.model is None:\n",
        "            self.make_network()\n",
        "        assert len(params) == len(\n",
        "            self.genes), \"Genome size does not fit the network size\"\n",
        "        if np.isnan(params).any():\n",
        "            raise\n",
        "        a = torch.tensor(params, device=self.device)\n",
        "        torch.nn.utils.vector_to_parameters(a, self.model.parameters())\n",
        "        self.model = self.model.to(self.device).double()\n",
        "        self.fitness = None\n",
        "        return self\n",
        "\n",
        "    def mutate_ga(self):\n",
        "        genes = self.genes\n",
        "        n = len(genes)\n",
        "        f = np.random.choice([False, True], size=n, p=[1/n, 1-1/n])\n",
        "        \n",
        "        new_genes = np.empty(n)\n",
        "        new_genes[f] = genes[f]\n",
        "        noise = np.random.randn(n-sum(f))\n",
        "        new_genes[~f] = noise\n",
        "        return new_genes\n",
        "\n",
        "    def act(self, obs):\n",
        "        # continuous actions\n",
        "        with torch.no_grad():\n",
        "            x = torch.tensor(obs).double().unsqueeze(0).to(self.device)\n",
        "            actions = self.model(x).cpu().detach().numpy()\n",
        "        return actions\n"
      ]
    },
    {
      "cell_type": "markdown",
      "id": "f12a7f25",
      "metadata": {
        "id": "f12a7f25"
      },
      "source": [
        "## Environment"
      ]
    },
    {
      "cell_type": "code",
      "execution_count": 37,
      "id": "d19259d6",
      "metadata": {
        "id": "d19259d6"
      },
      "outputs": [],
      "source": [
        "thrower = np.array([\n",
        "    [3, 3, 3, 3, 3],\n",
        "    [3, 3, 3, 0, 3],\n",
        "    [3, 3, 0, 3, 3],\n",
        "    [3, 3, 0, 3, 3],\n",
        "    [3, 3, 0, 3, 3]\n",
        "    ])"
      ]
    },
    {
      "cell_type": "code",
      "execution_count": 38,
      "id": "4d66464c",
      "metadata": {
        "id": "4d66464c"
      },
      "outputs": [],
      "source": [
        "def make_env(env_name, seed=None, robot=None, **kwargs):\n",
        "    if robot is None: \n",
        "        env = gym.make(env_name)\n",
        "    else:\n",
        "        connections = get_full_connectivity(robot)\n",
        "        env = gym.make(env_name, body=robot)\n",
        "    env.robot = robot\n",
        "    if seed is not None:\n",
        "        env.seed(seed)\n",
        "        \n",
        "    return env"
      ]
    },
    {
      "cell_type": "code",
      "execution_count": 39,
      "id": "e5a27e73",
      "metadata": {
        "id": "e5a27e73"
      },
      "outputs": [],
      "source": [
        "def evaluate(agent, env, max_steps=500, render=False):\n",
        "    obs = env.reset()\n",
        "    agent.model.reset()\n",
        "    reward = 0\n",
        "    steps = 0\n",
        "    done = False\n",
        "    while not done and steps < max_steps:\n",
        "        if render:\n",
        "            env.render()\n",
        "        action = agent.act(obs)\n",
        "        obs, r, done, _ = env.step(action)\n",
        "        reward += r\n",
        "        steps += 1\n",
        "    return reward"
      ]
    },
    {
      "cell_type": "code",
      "execution_count": 40,
      "id": "1881c388",
      "metadata": {
        "id": "1881c388"
      },
      "outputs": [],
      "source": [
        "def get_cfg(env_name, robot=None):\n",
        "    env = make_env(env_name, robot=thrower)\n",
        "    cfg = {\n",
        "        \"n_in\": env.observation_space.shape[0],\n",
        "        \"h_size\": 32,\n",
        "        \"n_out\": env.action_space.shape[0],\n",
        "    }\n",
        "    env.close()\n",
        "    return cfg"
      ]
    },
    {
      "cell_type": "code",
      "execution_count": 42,
      "id": "b72fffc4",
      "metadata": {
        "colab": {
          "base_uri": "https://localhost:8080/"
        },
        "id": "b72fffc4",
        "outputId": "cf82ee19-6d45-44ec-ec13-9518bac7e0d4"
      },
      "outputs": [
        {
          "output_type": "stream",
          "name": "stderr",
          "text": [
            "/usr/local/lib/python3.10/dist-packages/evogym/envs/manipulate.py:366: DeprecationWarning: `np.float` is a deprecated alias for the builtin `float`. To silence this warning, use `float` by itself. Doing this will not modify any behavior and is safe. If you specifically wanted the numpy scalar type, use `np.float64` here.\n",
            "Deprecated in NumPy 1.20; for more details and guidance: https://numpy.org/devdocs/release/1.20.0-notes.html#deprecations\n",
            "  self.action_space = spaces.Box(low= 0.6, high=1.6, shape=(num_actuators,), dtype=np.float)\n",
            "/usr/local/lib/python3.10/dist-packages/gym/core.py:317: DeprecationWarning: \u001b[33mWARN: Initializing wrapper in old step API which returns one bool instead of two. It is recommended to set `new_step_api=True` to use new step API. This will be the default behaviour in future.\u001b[0m\n",
            "  deprecation(\n",
            "/usr/local/lib/python3.10/dist-packages/gym/wrappers/step_api_compatibility.py:39: DeprecationWarning: \u001b[33mWARN: Initializing environment in old step API which returns one bool instead of two. It is recommended to set `new_step_api=True` to use new step API. This will be the default behaviour in future.\u001b[0m\n",
            "  deprecation(\n"
          ]
        },
        {
          "output_type": "execute_result",
          "data": {
            "text/plain": [
              "Agent Network(\n",
              "  (fc1): Linear(in_features=80, out_features=32, bias=True)\n",
              "  (fc2): Linear(in_features=32, out_features=32, bias=True)\n",
              "  (fc3): Linear(in_features=32, out_features=21, bias=True)\n",
              ") > fitness=None"
            ]
          },
          "metadata": {},
          "execution_count": 42
        }
      ],
      "source": [
        "env_name = 'Thrower-v0'\n",
        "robot = thrower\n",
        "\n",
        "cfg = get_cfg(env_name, robot)\n",
        "a = Agent(Network, cfg)\n",
        "a"
      ]
    },
    {
      "cell_type": "code",
      "execution_count": 43,
      "id": "c183d669",
      "metadata": {
        "colab": {
          "base_uri": "https://localhost:8080/"
        },
        "id": "c183d669",
        "outputId": "bfa55e55-8ef9-4303-f802-c0f2f46f720a"
      },
      "outputs": [
        {
          "output_type": "stream",
          "name": "stderr",
          "text": [
            "/usr/local/lib/python3.10/dist-packages/gym/utils/passive_env_checker.py:174: UserWarning: \u001b[33mWARN: Future gym versions will require that `Env.reset` can be passed a `seed` instead of using `Env.seed` for resetting the environment random number generator.\u001b[0m\n",
            "  logger.warn(\n",
            "/usr/local/lib/python3.10/dist-packages/gym/utils/passive_env_checker.py:190: UserWarning: \u001b[33mWARN: Future gym versions will require that `Env.reset` can be passed `return_info` to return information from the environment resetting.\u001b[0m\n",
            "  logger.warn(\n",
            "/usr/local/lib/python3.10/dist-packages/gym/utils/passive_env_checker.py:195: UserWarning: \u001b[33mWARN: Future gym versions will require that `Env.reset` can be passed `options` to allow the environment initialisation to be passed additional information.\u001b[0m\n",
            "  logger.warn(\n"
          ]
        },
        {
          "output_type": "execute_result",
          "data": {
            "text/plain": [
              "(80,\n",
              " array([ 0.        ,  0.        ,  0.09864865,  0.44864865,  0.        ,\n",
              "         0.        , -0.25135135, -0.15135135, -0.25135135, -0.15135135,\n",
              "        -0.05135135, -0.05135135,  0.04864865,  0.04864865,  0.14864865,\n",
              "         0.14864865,  0.24864865,  0.24864865, -0.25135135, -0.15135135,\n",
              "        -0.05135135,  0.04864865,  0.14864865,  0.24864865, -0.25135135,\n",
              "        -0.15135135, -0.05135135,  0.04864865,  0.04864865,  0.14864865,\n",
              "         0.24864865, -0.25135135, -0.15135135, -0.05135135,  0.04864865,\n",
              "         0.14864865,  0.24864865, -0.25135135, -0.15135135, -0.05135135,\n",
              "         0.04864865,  0.14864865,  0.24864865,  0.24864865,  0.24864865,\n",
              "         0.14864865,  0.14864865,  0.24864865,  0.14864865,  0.24864865,\n",
              "         0.14864865,  0.24864865,  0.14864865,  0.24864865,  0.14864865,\n",
              "         0.04864865,  0.04864865,  0.04864865,  0.04864865,  0.04864865,\n",
              "         0.04864865, -0.05135135, -0.05135135, -0.05135135,  0.04864865,\n",
              "        -0.05135135, -0.05135135, -0.05135135, -0.15135135, -0.15135135,\n",
              "        -0.15135135, -0.15135135, -0.15135135, -0.15135135, -0.25135135,\n",
              "        -0.25135135, -0.25135135, -0.25135135, -0.25135135, -0.25135135]))"
            ]
          },
          "metadata": {},
          "execution_count": 43
        }
      ],
      "source": [
        "env = make_env(env_name, robot=thrower)\n",
        "s = env.reset()\n",
        "len(s), s"
      ]
    },
    {
      "cell_type": "code",
      "execution_count": 44,
      "id": "29d25dec",
      "metadata": {
        "colab": {
          "base_uri": "https://localhost:8080/"
        },
        "id": "29d25dec",
        "outputId": "e1a5a28c-bb21-4b17-ae2f-d409db6c355f"
      },
      "outputs": [
        {
          "output_type": "stream",
          "name": "stderr",
          "text": [
            "/usr/local/lib/python3.10/dist-packages/gym/utils/passive_env_checker.py:227: DeprecationWarning: \u001b[33mWARN: Core environment is written in old step API which returns one bool instead of two. It is recommended to rewrite the environment with new step API. \u001b[0m\n",
            "  logger.deprecation(\n"
          ]
        },
        {
          "output_type": "stream",
          "name": "stdout",
          "text": [
            "Reward: -0.0616227385038922\n"
          ]
        }
      ],
      "source": [
        "# Evaluation\n",
        "env = make_env(env_name, robot=thrower)\n",
        "reward = evaluate(a, env, render=False)\n",
        "print(f\"Reward: {reward}\")\n",
        "env.close()"
      ]
    },
    {
      "cell_type": "code",
      "execution_count": 45,
      "id": "8ac629a1",
      "metadata": {
        "id": "8ac629a1"
      },
      "outputs": [],
      "source": [
        "def mp_eval(a, cfg):\n",
        "    env = make_env(cfg[\"env_name\"], robot=cfg[\"robot\"])\n",
        "    fit = evaluate(a, env, max_steps=cfg[\"max_steps\"])\n",
        "    env.close()\n",
        "    return fit"
      ]
    },
    {
      "cell_type": "markdown",
      "id": "34f46b8a",
      "metadata": {
        "id": "34f46b8a"
      },
      "source": [
        "## Algorithms\n",
        "### 1+$\\lambda$ EA"
      ]
    },
    {
      "cell_type": "code",
      "execution_count": 46,
      "id": "f92988b5",
      "metadata": {
        "id": "f92988b5"
      },
      "outputs": [],
      "source": [
        "def one_plus_lambda(config):\n",
        "    cfg = get_cfg(config[\"env_name\"], robot=config[\"robot\"]) # Get network dims\n",
        "    cfg = {**config, **cfg} # Merge configs\n",
        "    \n",
        "    env = make_env(cfg[\"env_name\"], robot=cfg[\"robot\"])\n",
        "\n",
        "    # Elite\n",
        "    elite = Agent(Network, cfg)\n",
        "\n",
        "    elite.fitness = evaluate(elite, env, max_steps=cfg[\"max_steps\"])\n",
        "\n",
        "    fits = []\n",
        "    total_evals = []\n",
        "\n",
        "    bar = tqdm(range(cfg[\"generations\"]))\n",
        "    for gen in bar:\n",
        "        population = [Agent(Network, cfg, genes=elite.mutate_ga()) \n",
        "            for _ in range(cfg[\"lambda\"])]\n",
        "\n",
        "        with Pool(processes=len(population)) as pool:\n",
        "            pop_fitness = pool.starmap(mp_eval, [(a, cfg) for a in population])\n",
        "\n",
        "        # pop_fitness = [evaluate(a, env, max_steps=cfg[\"max_steps\"]) for a in population]\n",
        "\n",
        "        best = np.argmax(pop_fitness)\n",
        "        best_fit = pop_fitness[best]\n",
        "        if best_fit > elite.fitness:\n",
        "            elite.genes = population[best].genes\n",
        "            elite.fitness = best_fit\n",
        "        fits.append(elite.fitness)\n",
        "        total_evals.append(len(population) * (gen+1))\n",
        "        bar.set_description(f\"Best: {elite.fitness}\")\n",
        "        \n",
        "    env.close()\n",
        "    plt.plot(total_evals, fits)\n",
        "    plt.xlabel(\"Evaluations\")\n",
        "    plt.ylabel(\"Fitness\")\n",
        "    plt.show()\n",
        "    return elite"
      ]
    },
    {
      "cell_type": "code",
      "execution_count": 47,
      "id": "4c9c12ae",
      "metadata": {
        "colab": {
          "base_uri": "https://localhost:8080/",
          "height": 484
        },
        "id": "4c9c12ae",
        "outputId": "060987a0-76aa-4038-e44c-833b1647a52e"
      },
      "outputs": [
        {
          "output_type": "stream",
          "name": "stderr",
          "text": [
            "Best: 0.17932522140673768: 100%|██████████| 50/50 [04:31<00:00,  5.43s/it]\n"
          ]
        },
        {
          "output_type": "display_data",
          "data": {
            "text/plain": [
              "<Figure size 640x480 with 1 Axes>"
            ],
            "image/png": "[encoded data removed]"
          },
          "metadata": {}
        },
        {
          "output_type": "execute_result",
          "data": {
            "text/plain": [
              "0.17932522140673768"
            ]
          },
          "metadata": {},
          "execution_count": 47
        }
      ],
      "source": [
        "config = {\n",
        "    \"env_name\": \"Thrower-v0\",\n",
        "    \"robot\": thrower,\n",
        "    \"generations\": 50, # To change: increase!\n",
        "    \"lambda\": 10,\n",
        "    \"max_steps\": 100, # to change to 500\n",
        "}\n",
        "\n",
        "\n",
        "\n",
        "a = one_plus_lambda(config)\n",
        "a.fitness"
      ]
    },
    {
      "cell_type": "code",
      "source": [
        "fits = np.zeros(10)\n",
        "for i in tqdm(range(1,10)):\n",
        "  config['generations'] = 10 * i\n",
        "  config['lambda'] = 50//i\n",
        "  a = one_plus_lambda(config)\n",
        "  fits[i] = a.fitness\n",
        "imax = fits.index(max(fits))\n",
        "print(\"gen = %d , lambda = %d\" %(10*i, 50//i))"
      ],
      "metadata": {
        "colab": {
          "base_uri": "https://localhost:8080/",
          "height": 1000
        },
        "id": "j1pbiSFu_olC",
        "outputId": "c17f7d75-9727-413b-c86c-db6da1c2dad1"
      },
      "id": "j1pbiSFu_olC",
      "execution_count": 60,
      "outputs": [
        {
          "output_type": "stream",
          "name": "stderr",
          "text": [
            "/usr/local/lib/python3.10/dist-packages/ipykernel/ipkernel.py:283: DeprecationWarning: `should_run_async` will not call `transform_cell` automatically in the future. Please pass the result to `transformed_cell` argument and any exception that happen during thetransform in `preprocessing_exc_tuple` in IPython 7.17 and above.\n",
            "  and should_run_async(code)\n",
            "  0%|          | 0/9 [00:00<?, ?it/s]/usr/local/lib/python3.10/dist-packages/evogym/envs/manipulate.py:366: DeprecationWarning: `np.float` is a deprecated alias for the builtin `float`. To silence this warning, use `float` by itself. Doing this will not modify any behavior and is safe. If you specifically wanted the numpy scalar type, use `np.float64` here.\n",
            "Deprecated in NumPy 1.20; for more details and guidance: https://numpy.org/devdocs/release/1.20.0-notes.html#deprecations\n",
            "  self.action_space = spaces.Box(low= 0.6, high=1.6, shape=(num_actuators,), dtype=np.float)\n",
            "/usr/local/lib/python3.10/dist-packages/gym/core.py:317: DeprecationWarning: \u001b[33mWARN: Initializing wrapper in old step API which returns one bool instead of two. It is recommended to set `new_step_api=True` to use new step API. This will be the default behaviour in future.\u001b[0m\n",
            "  deprecation(\n",
            "/usr/local/lib/python3.10/dist-packages/gym/wrappers/step_api_compatibility.py:39: DeprecationWarning: \u001b[33mWARN: Initializing environment in old step API which returns one bool instead of two. It is recommended to set `new_step_api=True` to use new step API. This will be the default behaviour in future.\u001b[0m\n",
            "  deprecation(\n",
            "/usr/local/lib/python3.10/dist-packages/gym/utils/passive_env_checker.py:174: UserWarning: \u001b[33mWARN: Future gym versions will require that `Env.reset` can be passed a `seed` instead of using `Env.seed` for resetting the environment random number generator.\u001b[0m\n",
            "  logger.warn(\n",
            "/usr/local/lib/python3.10/dist-packages/gym/utils/passive_env_checker.py:190: UserWarning: \u001b[33mWARN: Future gym versions will require that `Env.reset` can be passed `return_info` to return information from the environment resetting.\u001b[0m\n",
            "  logger.warn(\n",
            "/usr/local/lib/python3.10/dist-packages/gym/utils/passive_env_checker.py:195: UserWarning: \u001b[33mWARN: Future gym versions will require that `Env.reset` can be passed `options` to allow the environment initialisation to be passed additional information.\u001b[0m\n",
            "  logger.warn(\n",
            "/usr/local/lib/python3.10/dist-packages/gym/utils/passive_env_checker.py:227: DeprecationWarning: \u001b[33mWARN: Core environment is written in old step API which returns one bool instead of two. It is recommended to rewrite the environment with new step API. \u001b[0m\n",
            "  logger.deprecation(\n",
            "\n",
            "  0%|          | 0/10 [00:00<?, ?it/s]\u001b[A\n",
            "Best: 0.2764105873731996:   0%|          | 0/10 [01:20<?, ?it/s]\u001b[A\n",
            "Best: 0.2764105873731996:  10%|█         | 1/10 [01:20<12:05, 80.59s/it]\u001b[A\n",
            "Best: 0.4547043218386767:  10%|█         | 1/10 [02:40<12:05, 80.59s/it]\u001b[A\n",
            "Best: 0.4547043218386767:  20%|██        | 2/10 [02:40<10:41, 80.19s/it]\u001b[A\n",
            "Best: 0.4547043218386767:  20%|██        | 2/10 [04:00<10:41, 80.19s/it]\u001b[A\n",
            "Best: 0.4547043218386767:  30%|███       | 3/10 [04:00<09:19, 79.92s/it]\u001b[A\n",
            "Best: 0.4578331971166959:  30%|███       | 3/10 [05:20<09:19, 79.92s/it]\u001b[A\n",
            "Best: 0.4578331971166959:  40%|████      | 4/10 [05:20<08:00, 80.12s/it]\u001b[A\n",
            "Best: 0.4578331971166959:  40%|████      | 4/10 [06:38<08:00, 80.12s/it]\u001b[A\n",
            "Best: 0.4578331971166959:  50%|█████     | 5/10 [06:38<06:37, 79.49s/it]\u001b[A\n",
            "Best: 0.46001230003116367:  50%|█████     | 5/10 [07:57<06:37, 79.49s/it]\u001b[A\n",
            "Best: 0.46001230003116367:  60%|██████    | 6/10 [07:57<05:16, 79.11s/it]\u001b[A\n",
            "Best: 0.46010822418771286:  60%|██████    | 6/10 [09:17<05:16, 79.11s/it]\u001b[A\n",
            "Best: 0.46010822418771286:  70%|███████   | 7/10 [09:17<03:58, 79.39s/it]\u001b[A\n",
            "Best: 0.46097016374255506:  70%|███████   | 7/10 [10:36<03:58, 79.39s/it]\u001b[A\n",
            "Best: 0.46097016374255506:  80%|████████  | 8/10 [10:36<02:38, 79.42s/it]\u001b[A\n",
            "Best: 0.4610980298069745:  80%|████████  | 8/10 [11:55<02:38, 79.42s/it] \u001b[A\n",
            "Best: 0.4610980298069745:  90%|█████████ | 9/10 [11:55<01:19, 79.36s/it]\u001b[A\n",
            "Best: 0.4610980298069745:  90%|█████████ | 9/10 [13:14<01:19, 79.36s/it]\u001b[A\n",
            "Best: 0.4610980298069745: 100%|██████████| 10/10 [13:14<00:00, 79.46s/it]\n"
          ]
        },
        {
          "output_type": "display_data",
          "data": {
            "text/plain": [
              "<Figure size 640x480 with 1 Axes>"
            ],
            "image/png": "[encoded data removed]"
          },
          "metadata": {}
        },
        {
          "output_type": "stream",
          "name": "stderr",
          "text": [
            " 11%|█         | 1/9 [13:16<1:46:10, 796.37s/it]\n",
            "  0%|          | 0/20 [00:00<?, ?it/s]\u001b[A\n",
            "Best: 0.4562957212822577:   0%|          | 0/20 [00:37<?, ?it/s]\u001b[A\n",
            "Best: 0.4562957212822577:   5%|▌         | 1/20 [00:37<11:54, 37.62s/it]\u001b[A\n",
            "Best: 0.45871127109539417:   5%|▌         | 1/20 [01:15<11:54, 37.62s/it]\u001b[A\n",
            "Best: 0.45871127109539417:  10%|█         | 2/20 [01:15<11:20, 37.81s/it]\u001b[A\n",
            "Best: 0.45871127109539417:  10%|█         | 2/20 [01:55<11:20, 37.81s/it]\u001b[A\n",
            "Best: 0.45871127109539417:  15%|█▌        | 3/20 [01:55<11:01, 38.92s/it]\u001b[A\n",
            "Best: 0.45871127109539417:  15%|█▌        | 3/20 [02:33<11:01, 38.92s/it]\u001b[A\n",
            "Best: 0.45871127109539417:  20%|██        | 4/20 [02:33<10:15, 38.45s/it]\u001b[A\n",
            "Best: 0.458796786228738:  20%|██        | 4/20 [03:12<10:15, 38.45s/it]  \u001b[A\n",
            "Best: 0.458796786228738:  25%|██▌       | 5/20 [03:12<09:40, 38.68s/it]\u001b[A\n",
            "Best: 0.458796786228738:  25%|██▌       | 5/20 [03:51<09:40, 38.68s/it]\u001b[A\n",
            "Best: 0.458796786228738:  30%|███       | 6/20 [03:51<09:00, 38.60s/it]\u001b[A\n",
            "Best: 0.458796786228738:  30%|███       | 6/20 [04:28<09:00, 38.60s/it]\u001b[A\n",
            "Best: 0.458796786228738:  35%|███▌      | 7/20 [04:28<08:18, 38.38s/it]\u001b[A\n",
            "Best: 0.458796786228738:  35%|███▌      | 7/20 [05:09<08:18, 38.38s/it]\u001b[A\n",
            "Best: 0.458796786228738:  40%|████      | 8/20 [05:09<07:49, 39.10s/it]\u001b[A\n",
            "Best: 0.458796786228738:  40%|████      | 8/20 [05:52<07:49, 39.10s/it]\u001b[A\n",
            "Best: 0.458796786228738:  45%|████▌     | 9/20 [05:52<07:21, 40.15s/it]\u001b[A\n",
            "Best: 0.458796786228738:  45%|████▌     | 9/20 [06:32<07:21, 40.15s/it]\u001b[A\n",
            "Best: 0.458796786228738:  50%|█████     | 10/20 [06:32<06:40, 40.08s/it]\u001b[A\n",
            "Best: 0.458796786228738:  50%|█████     | 10/20 [07:13<06:40, 40.08s/it]\u001b[A\n",
            "Best: 0.458796786228738:  55%|█████▌    | 11/20 [07:13<06:04, 40.48s/it]\u001b[A\n",
            "Best: 0.458796786228738:  55%|█████▌    | 11/20 [07:50<06:04, 40.48s/it]\u001b[A\n",
            "Best: 0.458796786228738:  60%|██████    | 12/20 [07:50<05:16, 39.51s/it]\u001b[A\n",
            "Best: 0.45928539832734055:  60%|██████    | 12/20 [08:30<05:16, 39.51s/it]\u001b[A\n",
            "Best: 0.45928539832734055:  65%|██████▌   | 13/20 [08:30<04:37, 39.69s/it]\u001b[A\n",
            "Best: 0.45928539832734055:  65%|██████▌   | 13/20 [09:08<04:37, 39.69s/it]\u001b[A\n",
            "Best: 0.45928539832734055:  70%|███████   | 14/20 [09:08<03:54, 39.15s/it]\u001b[A\n",
            "Best: 0.45928539832734055:  70%|███████   | 14/20 [09:46<03:54, 39.15s/it]\u001b[A\n",
            "Best: 0.45928539832734055:  75%|███████▌  | 15/20 [09:46<03:13, 38.76s/it]\u001b[A\n",
            "Best: 0.45928539832734055:  75%|███████▌  | 15/20 [10:26<03:13, 38.76s/it]\u001b[A\n",
            "Best: 0.45928539832734055:  80%|████████  | 16/20 [10:26<02:36, 39.21s/it]\u001b[A\n",
            "Best: 0.45928539832734055:  80%|████████  | 16/20 [11:04<02:36, 39.21s/it]\u001b[A\n",
            "Best: 0.45928539832734055:  85%|████████▌ | 17/20 [11:04<01:56, 38.74s/it]\u001b[A\n",
            "Best: 0.45928539832734055:  85%|████████▌ | 17/20 [11:42<01:56, 38.74s/it]\u001b[A\n",
            "Best: 0.45928539832734055:  90%|█████████ | 18/20 [11:42<01:16, 38.45s/it]\u001b[A\n",
            "Best: 0.45948505005233153:  90%|█████████ | 18/20 [12:24<01:16, 38.45s/it]\u001b[A\n",
            "Best: 0.45948505005233153:  95%|█████████▌| 19/20 [12:24<00:39, 39.72s/it]\u001b[A\n",
            "Best: 0.45948505005233153:  95%|█████████▌| 19/20 [13:04<00:39, 39.72s/it]\u001b[A\n",
            "Best: 0.45948505005233153: 100%|██████████| 20/20 [13:04<00:00, 39.24s/it]\n"
          ]
        },
        {
          "output_type": "display_data",
          "data": {
            "text/plain": [
              "<Figure size 640x480 with 1 Axes>"
            ],
            "image/png": "[encoded data removed]"
          },
          "metadata": {}
        },
        {
          "output_type": "stream",
          "name": "stderr",
          "text": [
            " 22%|██▏       | 2/9 [26:23<1:32:17, 791.12s/it]\n",
            "  0%|          | 0/30 [00:00<?, ?it/s]\u001b[A\n",
            "Best: 0.02701287196707429:   0%|          | 0/30 [00:22<?, ?it/s]\u001b[A\n",
            "Best: 0.02701287196707429:   3%|▎         | 1/30 [00:22<11:02, 22.85s/it]\u001b[A\n",
            "Best: 0.02701287196707429:   3%|▎         | 1/30 [00:48<11:02, 22.85s/it]\u001b[A\n",
            "Best: 0.02701287196707429:   7%|▋         | 2/30 [00:48<11:20, 24.31s/it]\u001b[A\n",
            "Best: 0.070318521185682:   7%|▋         | 2/30 [01:10<11:20, 24.31s/it]  \u001b[A\n",
            "Best: 0.070318521185682:  10%|█         | 3/30 [01:10<10:36, 23.58s/it]\u001b[A\n",
            "Best: 0.12721212159191886:  10%|█         | 3/30 [01:34<10:36, 23.58s/it]\u001b[A\n",
            "Best: 0.12721212159191886:  13%|█▎        | 4/30 [01:34<10:18, 23.79s/it]\u001b[A\n",
            "Best: 0.3997714933433102:  13%|█▎        | 4/30 [02:00<10:18, 23.79s/it] \u001b[A\n",
            "Best: 0.3997714933433102:  17%|█▋        | 5/30 [02:00<10:11, 24.46s/it]\u001b[A\n",
            "Best: 0.4117370527433122:  17%|█▋        | 5/30 [02:23<10:11, 24.46s/it]\u001b[A\n",
            "Best: 0.4117370527433122:  20%|██        | 6/30 [02:23<09:37, 24.06s/it]\u001b[A\n",
            "Best: 0.45380099946117824:  20%|██        | 6/30 [02:49<09:37, 24.06s/it]\u001b[A\n",
            "Best: 0.45380099946117824:  23%|██▎       | 7/30 [02:49<09:23, 24.48s/it]\u001b[A\n",
            "Best: 0.45380099946117824:  23%|██▎       | 7/30 [03:12<09:23, 24.48s/it]\u001b[A\n",
            "Best: 0.45380099946117824:  27%|██▋       | 8/30 [03:12<08:46, 23.95s/it]\u001b[A\n",
            "Best: 0.45608782784818025:  27%|██▋       | 8/30 [03:37<08:46, 23.95s/it]\u001b[A\n",
            "Best: 0.45608782784818025:  30%|███       | 9/30 [03:37<08:31, 24.36s/it]\u001b[A\n",
            "Best: 0.45608782784818025:  30%|███       | 9/30 [04:00<08:31, 24.36s/it]\u001b[A\n",
            "Best: 0.45608782784818025:  33%|███▎      | 10/30 [04:00<08:01, 24.09s/it]\u001b[A\n",
            "Best: 0.45608782784818025:  33%|███▎      | 10/30 [04:25<08:01, 24.09s/it]\u001b[A\n",
            "Best: 0.45608782784818025:  37%|███▋      | 11/30 [04:25<07:38, 24.15s/it]\u001b[A\n",
            "Best: 0.456725152876828:  37%|███▋      | 11/30 [04:50<07:38, 24.15s/it]  \u001b[A\n",
            "Best: 0.456725152876828:  40%|████      | 12/30 [05:14<07:52, 26.25s/it]\n",
            " 22%|██▏       | 2/9 [31:40<1:50:53, 950.47s/it]\n"
          ]
        },
        {
          "output_type": "error",
          "ename": "KeyboardInterrupt",
          "evalue": "ignored",
          "traceback": [
            "\u001b[0;31m---------------------------------------------------------------------------\u001b[0m",
            "\u001b[0;31mKeyboardInterrupt\u001b[0m                         Traceback (most recent call last)",
            "\u001b[0;32m<ipython-input-60-2b3fe563113d>\u001b[0m in \u001b[0;36m<cell line: 2>\u001b[0;34m()\u001b[0m\n\u001b[1;32m      3\u001b[0m   \u001b[0mconfig\u001b[0m\u001b[0;34m[\u001b[0m\u001b[0;34m'generations'\u001b[0m\u001b[0;34m]\u001b[0m \u001b[0;34m=\u001b[0m \u001b[0;36m10\u001b[0m \u001b[0;34m*\u001b[0m \u001b[0mi\u001b[0m\u001b[0;34m\u001b[0m\u001b[0;34m\u001b[0m\u001b[0m\n\u001b[1;32m      4\u001b[0m   \u001b[0mconfig\u001b[0m\u001b[0;34m[\u001b[0m\u001b[0;34m'lambda'\u001b[0m\u001b[0;34m]\u001b[0m \u001b[0;34m=\u001b[0m \u001b[0;36m50\u001b[0m\u001b[0;34m//\u001b[0m\u001b[0mi\u001b[0m\u001b[0;34m\u001b[0m\u001b[0;34m\u001b[0m\u001b[0m\n\u001b[0;32m----> 5\u001b[0;31m   \u001b[0ma\u001b[0m \u001b[0;34m=\u001b[0m \u001b[0mone_plus_lambda\u001b[0m\u001b[0;34m(\u001b[0m\u001b[0mconfig\u001b[0m\u001b[0;34m)\u001b[0m\u001b[0;34m\u001b[0m\u001b[0;34m\u001b[0m\u001b[0m\n\u001b[0m\u001b[1;32m      6\u001b[0m   \u001b[0mfits\u001b[0m\u001b[0;34m[\u001b[0m\u001b[0mi\u001b[0m\u001b[0;34m]\u001b[0m \u001b[0;34m=\u001b[0m \u001b[0ma\u001b[0m\u001b[0;34m.\u001b[0m\u001b[0mfitness\u001b[0m\u001b[0;34m\u001b[0m\u001b[0;34m\u001b[0m\u001b[0m\n\u001b[1;32m      7\u001b[0m \u001b[0mimax\u001b[0m \u001b[0;34m=\u001b[0m \u001b[0mfits\u001b[0m\u001b[0;34m.\u001b[0m\u001b[0mindex\u001b[0m\u001b[0;34m(\u001b[0m\u001b[0mmax\u001b[0m\u001b[0;34m(\u001b[0m\u001b[0mfits\u001b[0m\u001b[0;34m)\u001b[0m\u001b[0;34m)\u001b[0m\u001b[0;34m\u001b[0m\u001b[0;34m\u001b[0m\u001b[0m\n",
            "\u001b[0;32m<ipython-input-46-7de57818c2b8>\u001b[0m in \u001b[0;36mone_plus_lambda\u001b[0;34m(config)\u001b[0m\n\u001b[1;32m     19\u001b[0m \u001b[0;34m\u001b[0m\u001b[0m\n\u001b[1;32m     20\u001b[0m         \u001b[0;32mwith\u001b[0m \u001b[0mPool\u001b[0m\u001b[0;34m(\u001b[0m\u001b[0mprocesses\u001b[0m\u001b[0;34m=\u001b[0m\u001b[0mlen\u001b[0m\u001b[0;34m(\u001b[0m\u001b[0mpopulation\u001b[0m\u001b[0;34m)\u001b[0m\u001b[0;34m)\u001b[0m \u001b[0;32mas\u001b[0m \u001b[0mpool\u001b[0m\u001b[0;34m:\u001b[0m\u001b[0;34m\u001b[0m\u001b[0;34m\u001b[0m\u001b[0m\n\u001b[0;32m---> 21\u001b[0;31m             \u001b[0mpop_fitness\u001b[0m \u001b[0;34m=\u001b[0m \u001b[0mpool\u001b[0m\u001b[0;34m.\u001b[0m\u001b[0mstarmap\u001b[0m\u001b[0;34m(\u001b[0m\u001b[0mmp_eval\u001b[0m\u001b[0;34m,\u001b[0m \u001b[0;34m[\u001b[0m\u001b[0;34m(\u001b[0m\u001b[0ma\u001b[0m\u001b[0;34m,\u001b[0m \u001b[0mcfg\u001b[0m\u001b[0;34m)\u001b[0m \u001b[0;32mfor\u001b[0m \u001b[0ma\u001b[0m \u001b[0;32min\u001b[0m \u001b[0mpopulation\u001b[0m\u001b[0;34m]\u001b[0m\u001b[0;34m)\u001b[0m\u001b[0;34m\u001b[0m\u001b[0;34m\u001b[0m\u001b[0m\n\u001b[0m\u001b[1;32m     22\u001b[0m \u001b[0;34m\u001b[0m\u001b[0m\n\u001b[1;32m     23\u001b[0m         \u001b[0;31m# pop_fitness = [evaluate(a, env, max_steps=cfg[\"max_steps\"]) for a in population]\u001b[0m\u001b[0;34m\u001b[0m\u001b[0;34m\u001b[0m\u001b[0m\n",
            "\u001b[0;32m/usr/lib/python3.10/multiprocessing/pool.py\u001b[0m in \u001b[0;36mstarmap\u001b[0;34m(self, func, iterable, chunksize)\u001b[0m\n\u001b[1;32m    373\u001b[0m         \u001b[0;31m`\u001b[0m\u001b[0mfunc\u001b[0m\u001b[0;31m`\u001b[0m \u001b[0;32mand\u001b[0m \u001b[0;34m(\u001b[0m\u001b[0ma\u001b[0m\u001b[0;34m,\u001b[0m \u001b[0mb\u001b[0m\u001b[0;34m)\u001b[0m \u001b[0mbecomes\u001b[0m \u001b[0mfunc\u001b[0m\u001b[0;34m(\u001b[0m\u001b[0ma\u001b[0m\u001b[0;34m,\u001b[0m \u001b[0mb\u001b[0m\u001b[0;34m)\u001b[0m\u001b[0;34m.\u001b[0m\u001b[0;34m\u001b[0m\u001b[0;34m\u001b[0m\u001b[0m\n\u001b[1;32m    374\u001b[0m         '''\n\u001b[0;32m--> 375\u001b[0;31m         \u001b[0;32mreturn\u001b[0m \u001b[0mself\u001b[0m\u001b[0;34m.\u001b[0m\u001b[0m_map_async\u001b[0m\u001b[0;34m(\u001b[0m\u001b[0mfunc\u001b[0m\u001b[0;34m,\u001b[0m \u001b[0miterable\u001b[0m\u001b[0;34m,\u001b[0m \u001b[0mstarmapstar\u001b[0m\u001b[0;34m,\u001b[0m \u001b[0mchunksize\u001b[0m\u001b[0;34m)\u001b[0m\u001b[0;34m.\u001b[0m\u001b[0mget\u001b[0m\u001b[0;34m(\u001b[0m\u001b[0;34m)\u001b[0m\u001b[0;34m\u001b[0m\u001b[0;34m\u001b[0m\u001b[0m\n\u001b[0m\u001b[1;32m    376\u001b[0m \u001b[0;34m\u001b[0m\u001b[0m\n\u001b[1;32m    377\u001b[0m     def starmap_async(self, func, iterable, chunksize=None, callback=None,\n",
            "\u001b[0;32m/usr/lib/python3.10/multiprocessing/pool.py\u001b[0m in \u001b[0;36mget\u001b[0;34m(self, timeout)\u001b[0m\n\u001b[1;32m    766\u001b[0m \u001b[0;34m\u001b[0m\u001b[0m\n\u001b[1;32m    767\u001b[0m     \u001b[0;32mdef\u001b[0m \u001b[0mget\u001b[0m\u001b[0;34m(\u001b[0m\u001b[0mself\u001b[0m\u001b[0;34m,\u001b[0m \u001b[0mtimeout\u001b[0m\u001b[0;34m=\u001b[0m\u001b[0;32mNone\u001b[0m\u001b[0;34m)\u001b[0m\u001b[0;34m:\u001b[0m\u001b[0;34m\u001b[0m\u001b[0;34m\u001b[0m\u001b[0m\n\u001b[0;32m--> 768\u001b[0;31m         \u001b[0mself\u001b[0m\u001b[0;34m.\u001b[0m\u001b[0mwait\u001b[0m\u001b[0;34m(\u001b[0m\u001b[0mtimeout\u001b[0m\u001b[0;34m)\u001b[0m\u001b[0;34m\u001b[0m\u001b[0;34m\u001b[0m\u001b[0m\n\u001b[0m\u001b[1;32m    769\u001b[0m         \u001b[0;32mif\u001b[0m \u001b[0;32mnot\u001b[0m \u001b[0mself\u001b[0m\u001b[0;34m.\u001b[0m\u001b[0mready\u001b[0m\u001b[0;34m(\u001b[0m\u001b[0;34m)\u001b[0m\u001b[0;34m:\u001b[0m\u001b[0;34m\u001b[0m\u001b[0;34m\u001b[0m\u001b[0m\n\u001b[1;32m    770\u001b[0m             \u001b[0;32mraise\u001b[0m \u001b[0mTimeoutError\u001b[0m\u001b[0;34m\u001b[0m\u001b[0;34m\u001b[0m\u001b[0m\n",
            "\u001b[0;32m/usr/lib/python3.10/multiprocessing/pool.py\u001b[0m in \u001b[0;36mwait\u001b[0;34m(self, timeout)\u001b[0m\n\u001b[1;32m    763\u001b[0m \u001b[0;34m\u001b[0m\u001b[0m\n\u001b[1;32m    764\u001b[0m     \u001b[0;32mdef\u001b[0m \u001b[0mwait\u001b[0m\u001b[0;34m(\u001b[0m\u001b[0mself\u001b[0m\u001b[0;34m,\u001b[0m \u001b[0mtimeout\u001b[0m\u001b[0;34m=\u001b[0m\u001b[0;32mNone\u001b[0m\u001b[0;34m)\u001b[0m\u001b[0;34m:\u001b[0m\u001b[0;34m\u001b[0m\u001b[0;34m\u001b[0m\u001b[0m\n\u001b[0;32m--> 765\u001b[0;31m         \u001b[0mself\u001b[0m\u001b[0;34m.\u001b[0m\u001b[0m_event\u001b[0m\u001b[0;34m.\u001b[0m\u001b[0mwait\u001b[0m\u001b[0;34m(\u001b[0m\u001b[0mtimeout\u001b[0m\u001b[0;34m)\u001b[0m\u001b[0;34m\u001b[0m\u001b[0;34m\u001b[0m\u001b[0m\n\u001b[0m\u001b[1;32m    766\u001b[0m \u001b[0;34m\u001b[0m\u001b[0m\n\u001b[1;32m    767\u001b[0m     \u001b[0;32mdef\u001b[0m \u001b[0mget\u001b[0m\u001b[0;34m(\u001b[0m\u001b[0mself\u001b[0m\u001b[0;34m,\u001b[0m \u001b[0mtimeout\u001b[0m\u001b[0;34m=\u001b[0m\u001b[0;32mNone\u001b[0m\u001b[0;34m)\u001b[0m\u001b[0;34m:\u001b[0m\u001b[0;34m\u001b[0m\u001b[0;34m\u001b[0m\u001b[0m\n",
            "\u001b[0;32m/usr/lib/python3.10/threading.py\u001b[0m in \u001b[0;36mwait\u001b[0;34m(self, timeout)\u001b[0m\n\u001b[1;32m    605\u001b[0m             \u001b[0msignaled\u001b[0m \u001b[0;34m=\u001b[0m \u001b[0mself\u001b[0m\u001b[0;34m.\u001b[0m\u001b[0m_flag\u001b[0m\u001b[0;34m\u001b[0m\u001b[0;34m\u001b[0m\u001b[0m\n\u001b[1;32m    606\u001b[0m             \u001b[0;32mif\u001b[0m \u001b[0;32mnot\u001b[0m \u001b[0msignaled\u001b[0m\u001b[0;34m:\u001b[0m\u001b[0;34m\u001b[0m\u001b[0;34m\u001b[0m\u001b[0m\n\u001b[0;32m--> 607\u001b[0;31m                 \u001b[0msignaled\u001b[0m \u001b[0;34m=\u001b[0m \u001b[0mself\u001b[0m\u001b[0;34m.\u001b[0m\u001b[0m_cond\u001b[0m\u001b[0;34m.\u001b[0m\u001b[0mwait\u001b[0m\u001b[0;34m(\u001b[0m\u001b[0mtimeout\u001b[0m\u001b[0;34m)\u001b[0m\u001b[0;34m\u001b[0m\u001b[0;34m\u001b[0m\u001b[0m\n\u001b[0m\u001b[1;32m    608\u001b[0m             \u001b[0;32mreturn\u001b[0m \u001b[0msignaled\u001b[0m\u001b[0;34m\u001b[0m\u001b[0;34m\u001b[0m\u001b[0m\n\u001b[1;32m    609\u001b[0m \u001b[0;34m\u001b[0m\u001b[0m\n",
            "\u001b[0;32m/usr/lib/python3.10/threading.py\u001b[0m in \u001b[0;36mwait\u001b[0;34m(self, timeout)\u001b[0m\n\u001b[1;32m    318\u001b[0m         \u001b[0;32mtry\u001b[0m\u001b[0;34m:\u001b[0m    \u001b[0;31m# restore state no matter what (e.g., KeyboardInterrupt)\u001b[0m\u001b[0;34m\u001b[0m\u001b[0;34m\u001b[0m\u001b[0m\n\u001b[1;32m    319\u001b[0m             \u001b[0;32mif\u001b[0m \u001b[0mtimeout\u001b[0m \u001b[0;32mis\u001b[0m \u001b[0;32mNone\u001b[0m\u001b[0;34m:\u001b[0m\u001b[0;34m\u001b[0m\u001b[0;34m\u001b[0m\u001b[0m\n\u001b[0;32m--> 320\u001b[0;31m                 \u001b[0mwaiter\u001b[0m\u001b[0;34m.\u001b[0m\u001b[0macquire\u001b[0m\u001b[0;34m(\u001b[0m\u001b[0;34m)\u001b[0m\u001b[0;34m\u001b[0m\u001b[0;34m\u001b[0m\u001b[0m\n\u001b[0m\u001b[1;32m    321\u001b[0m                 \u001b[0mgotit\u001b[0m \u001b[0;34m=\u001b[0m \u001b[0;32mTrue\u001b[0m\u001b[0;34m\u001b[0m\u001b[0;34m\u001b[0m\u001b[0m\n\u001b[1;32m    322\u001b[0m             \u001b[0;32melse\u001b[0m\u001b[0;34m:\u001b[0m\u001b[0;34m\u001b[0m\u001b[0;34m\u001b[0m\u001b[0m\n",
            "\u001b[0;31mKeyboardInterrupt\u001b[0m: "
          ]
        }
      ]
    },
    {
      "cell_type": "code",
      "execution_count": 48,
      "id": "614ceb85",
      "metadata": {
        "id": "614ceb85"
      },
      "outputs": [],
      "source": [
        "env = make_env(config[\"env_name\"], robot=config[\"robot\"])\n",
        "evaluate(a, env, render=False)\n",
        "env.close()"
      ]
    },
    {
      "cell_type": "markdown",
      "id": "8ef8f67e",
      "metadata": {
        "id": "8ef8f67e"
      },
      "source": [
        "### Evolution Strategy"
      ]
    },
    {
      "cell_type": "code",
      "execution_count": 49,
      "id": "1a660752",
      "metadata": {
        "id": "1a660752"
      },
      "outputs": [],
      "source": [
        "def ES(config):\n",
        "    cfg = get_cfg(config[\"env_name\"], robot=config[\"robot\"]) # Get network dims\n",
        "    cfg = {**config, **cfg} # Merge configs\n",
        "    \n",
        "    # Update weights\n",
        "    mu = cfg[\"mu\"]\n",
        "    w = np.array([np.log(mu + 0.5) - np.log(i)\n",
        "                          for i in range(1, mu + 1)])\n",
        "    w /= np.sum(w)\n",
        "    \n",
        "    env = make_env(cfg[\"env_name\"], robot=cfg[\"robot\"])\n",
        "\n",
        "    # Center of the distribution\n",
        "    elite = Agent(Network, cfg)\n",
        "    elite.fitness = -np.inf\n",
        "    theta = elite.genes\n",
        "    d = len(theta)\n",
        "\n",
        "    fits = []\n",
        "    total_evals = []\n",
        "\n",
        "    bar = tqdm(range(cfg[\"generations\"]))\n",
        "    for gen in bar:\n",
        "        population = []\n",
        "        for i in range(cfg[\"lambda\"]):\n",
        "            genes = theta + np.random.randn(len(theta)) * cfg[\"sigma\"]\n",
        "            ind = Agent(Network, cfg, genes=genes)\n",
        "            # ind.fitness = evaluate(ind, env, max_steps=cfg[\"max_steps\"])\n",
        "            population.append(ind)\n",
        "\n",
        "        with Pool(processes=len(population)) as pool:\n",
        "            pop_fitness = pool.starmap(mp_eval, [(a, cfg) for a in population])\n",
        "        \n",
        "        for i in range(len(population)):\n",
        "            population[i].fitness = pop_fitness[i]\n",
        "\n",
        "        # sort by fitness\n",
        "        inv_fitnesses = [- f for f in pop_fitness]\n",
        "        # indices from highest fitness to lowest\n",
        "        idx = np.argsort(inv_fitnesses)\n",
        "        \n",
        "        step = np.zeros(d)\n",
        "        for i in range(mu):\n",
        "            # update step\n",
        "            step = step + w[i] * (population[idx[i]].genes - theta)\n",
        "        # update theta\n",
        "        theta = theta + step * cfg[\"lr\"]\n",
        "\n",
        "        if pop_fitness[idx[0]] > elite.fitness:\n",
        "            elite.genes = population[idx[0]].genes\n",
        "            elite.fitness = pop_fitness[idx[0]]\n",
        "\n",
        "        fits.append(elite.fitness)\n",
        "        total_evals.append(len(population) * (gen+1))\n",
        "\n",
        "        bar.set_description(f\"Best: {elite.fitness}\")\n",
        "        \n",
        "    env.close()\n",
        "    plt.plot(total_evals, fits)\n",
        "    plt.xlabel(\"Evaluations\")\n",
        "    plt.ylabel(\"Fitness\")\n",
        "    plt.show()\n",
        "    return elite"
      ]
    },
    {
      "cell_type": "code",
      "execution_count": 50,
      "id": "063baf0f",
      "metadata": {
        "colab": {
          "base_uri": "https://localhost:8080/",
          "height": 484
        },
        "id": "063baf0f",
        "outputId": "b5d4b7a6-fa31-433f-e5c8-45aec9a59d65"
      },
      "outputs": [
        {
          "output_type": "stream",
          "name": "stderr",
          "text": [
            "Best: 0.5076783349373846: 100%|██████████| 50/50 [04:20<00:00,  5.22s/it]\n"
          ]
        },
        {
          "output_type": "display_data",
          "data": {
            "text/plain": [
              "<Figure size 640x480 with 1 Axes>"
            ],
            "image/png": "[encoded data removed]"
          },
          "metadata": {}
        },
        {
          "output_type": "execute_result",
          "data": {
            "text/plain": [
              "0.5076783349373846"
            ]
          },
          "metadata": {},
          "execution_count": 50
        }
      ],
      "source": [
        "config = {\n",
        "    \"env_name\": \"Thrower-v0\",\n",
        "    \"robot\": thrower,\n",
        "    \"generations\": 50, # to change: increase!\n",
        "    \"lambda\": 10, # Population size\n",
        "    \"mu\": 5, # Parents pop size\n",
        "    \"sigma\": 0.1, # mutation std\n",
        "    \"lr\": 1, # Learning rate\n",
        "    \"max_steps\": 100, # to change to 500\n",
        "}\n",
        "\n",
        "a = ES(config)\n",
        "a.fitness"
      ]
    },
    {
      "cell_type": "code",
      "execution_count": 51,
      "id": "ab362318",
      "metadata": {
        "id": "ab362318"
      },
      "outputs": [],
      "source": [
        "env = make_env(config[\"env_name\"], robot=config[\"robot\"])\n",
        "evaluate(a, env, render=False)\n",
        "env.close()"
      ]
    },
    {
      "cell_type": "code",
      "execution_count": 52,
      "id": "59131bc4",
      "metadata": {
        "id": "59131bc4"
      },
      "outputs": [],
      "source": [
        "np.save(\"thrower.npy\", a.genes)"
      ]
    },
    {
      "cell_type": "markdown",
      "id": "0bebcb17",
      "metadata": {
        "id": "0bebcb17"
      },
      "source": [
        "## Pre-trained walker"
      ]
    },
    {
      "cell_type": "code",
      "execution_count": 53,
      "id": "6d524b1d",
      "metadata": {
        "id": "6d524b1d"
      },
      "outputs": [],
      "source": [
        "# load weights\n",
        "\n",
        "config = {\n",
        "    \"env_name\": \"Thrower-v0\",\n",
        "    \"robot\": thrower,\n",
        "    \"generations\": 100,\n",
        "    \"lambda\": 10, # Population size\n",
        "    \"mu\": 5, # Parents pop size\n",
        "    \"sigma\": 0.1, # mutation std\n",
        "    \"lr\": 1, # Learning rate\n",
        "    \"max_steps\": 500,\n",
        "}\n",
        "\n",
        "cfg = get_cfg(config[\"env_name\"], robot=config[\"robot\"]) # Get network dims\n",
        "cfg = {**config, **cfg} # Merge configs\n",
        "a = Agent(Network, cfg)\n",
        "a.genes = np.load(\"thrower.npy\")"
      ]
    },
    {
      "cell_type": "code",
      "execution_count": 54,
      "id": "94c24c34",
      "metadata": {
        "colab": {
          "base_uri": "https://localhost:8080/"
        },
        "id": "94c24c34",
        "outputId": "6a536413-f135-4fcf-c407-1b3e167f2832"
      },
      "outputs": [
        {
          "output_type": "stream",
          "name": "stdout",
          "text": [
            "0.454947181884109\n"
          ]
        }
      ],
      "source": [
        "env = make_env(cfg[\"env_name\"], robot=cfg[\"robot\"])\n",
        "a.fitness = evaluate(a, env, render=False)\n",
        "env.close()\n",
        "print(a.fitness)"
      ]
    },
    {
      "cell_type": "code",
      "execution_count": 55,
      "id": "8fe60f53",
      "metadata": {
        "id": "8fe60f53"
      },
      "outputs": [],
      "source": [
        "import json\n",
        "def save_solution(a, cfg, name=\"solution.json\"):\n",
        "    save_cfg = {}\n",
        "    for i in [\"env_name\", \"robot\", \"n_in\", \"h_size\", \"n_out\"]:\n",
        "        assert i in cfg, f\"{i} not in config\"\n",
        "        save_cfg[i] = cfg[i]\n",
        "    save_cfg[\"robot\"] = cfg[\"robot\"].tolist()\n",
        "    save_cfg[\"genes\"] = a.genes.tolist()\n",
        "    save_cfg[\"fitness\"] = float(a.fitness)\n",
        "    # save\n",
        "    with open(name, \"w\") as f:\n",
        "        json.dump(save_cfg, f)\n",
        "    return save_cfg"
      ]
    },
    {
      "cell_type": "code",
      "execution_count": null,
      "id": "cea67580",
      "metadata": {
        "id": "cea67580"
      },
      "outputs": [],
      "source": [
        "save_solution(a, cfg)"
      ]
    },
    {
      "cell_type": "code",
      "execution_count": 57,
      "id": "7e86ef75",
      "metadata": {
        "id": "7e86ef75"
      },
      "outputs": [],
      "source": [
        "def load_solution(name=\"solution.json\"):\n",
        "    with open(name, \"r\") as f:\n",
        "        cfg = json.load(f)\n",
        "    cfg[\"robot\"] = np.array(cfg[\"robot\"])\n",
        "    cfg[\"genes\"] = np.array(cfg[\"genes\"])\n",
        "    a = Agent(Network, cfg, genes=cfg[\"genes\"])\n",
        "    a.fitness = cfg[\"fitness\"]\n",
        "    return a"
      ]
    },
    {
      "cell_type": "code",
      "execution_count": 58,
      "id": "8ea9e9c0",
      "metadata": {
        "colab": {
          "base_uri": "https://localhost:8080/"
        },
        "id": "8ea9e9c0",
        "outputId": "b75e0295-b5bf-4e7c-c319-7a4a123ff6b4"
      },
      "outputs": [
        {
          "output_type": "stream",
          "name": "stdout",
          "text": [
            "0.454947181884109\n"
          ]
        }
      ],
      "source": [
        "a = load_solution(name=\"solution.json\")\n",
        "cfg = a.config\n",
        "env = make_env(cfg[\"env_name\"], robot=cfg[\"robot\"])\n",
        "a.fitness = evaluate(a, env, render=False)\n",
        "env.close()\n",
        "print(a.fitness)"
      ]
    },
    {
      "cell_type": "code",
      "execution_count": null,
      "id": "624c3f26",
      "metadata": {
        "id": "624c3f26"
      },
      "outputs": [],
      "source": []
    },
    {
      "cell_type": "markdown",
      "source": [
        "# CMA ES\n"
      ],
      "metadata": {
        "id": "TMw8qWPTI57Z"
      },
      "id": "TMw8qWPTI57Z"
    },
    {
      "cell_type": "code",
      "source": [
        "import cma\n",
        "\n",
        "def CMAES(config):\n",
        "    cfg = get_cfg(config[\"env_name\"], robot=config[\"robot\"]) # Get network dims\n",
        "    cfg = {**config, **cfg} # Merge configs\n",
        "    \n",
        "    # Update weights\n",
        "    mu = cfg[\"mu\"]\n",
        "    w = np.array([np.log(mu + 0.5) - np.log(i)\n",
        "                          for i in range(1, mu + 1)])\n",
        "    w /= np.sum(w)\n",
        "    \n",
        "    env = make_env(cfg[\"env_name\"], robot=cfg[\"robot\"])\n",
        "\n",
        "    # Center of the distribution\n",
        "    elite = Agent(Network, cfg)\n",
        "    elite.fitness = -np.inf\n",
        "    theta = elite.genes\n",
        "    d = len(theta)\n",
        "\n",
        "    fits = []\n",
        "    total_evals = []\n",
        "\n",
        "    bar = tqdm(range(cfg[\"generations\"]))\n",
        "    for gen in bar:\n",
        "        population = []\n",
        "        for i in range(cfg[\"lambda\"]):\n",
        "            genes = theta + np.random.randn(len(theta)) * cfg[\"sigma\"]\n",
        "            ind = Agent(Network, cfg, genes=genes)\n",
        "            # ind.fitness = evaluate(ind, env, max_steps=cfg[\"max_steps\"])\n",
        "            population.append(ind)\n",
        "\n",
        "        with Pool(processes=len(population)) as pool:\n",
        "            pop_fitness = pool.starmap(mp_eval, [(a, cfg) for a in population])\n",
        "        \n",
        "        for i in range(len(population)):\n",
        "            population[i].fitness = pop_fitness[i]\n",
        "\n",
        "        # sort by fitness\n",
        "        inv_fitnesses = [- f for f in pop_fitness]\n",
        "        # indices from highest fitness to lowest\n",
        "        idx = np.argsort(inv_fitnesses)\n",
        "        \n",
        "        step = np.zeros(d)\n",
        "        for i in range(mu):\n",
        "            # update step\n",
        "            step = step + w[i] * (population[idx[i]].genes - theta)\n",
        "        # update theta\n",
        "        theta = theta + step * cfg[\"lr\"]\n",
        "\n",
        "        if pop_fitness[idx[0]] > elite.fitness:\n",
        "            elite.genes = population[idx[0]].genes\n",
        "            elite.fitness = pop_fitness[idx[0]]\n",
        "\n",
        "        fits.append(elite.fitness)\n",
        "        total_evals.append(len(population) * (gen+1))\n",
        "\n",
        "        bar.set_description(f\"Best: {elite.fitness}\")\n",
        "        \n",
        "    env.close()\n",
        "    plt.plot(total_evals, fits)\n",
        "    plt.xlabel(\"Evaluations\")\n",
        "    plt.ylabel(\"Fitness\")\n",
        "    plt.show()\n",
        "    return elite"
      ],
      "metadata": {
        "id": "LTj3Ab5mJB_8"
      },
      "id": "LTj3Ab5mJB_8",
      "execution_count": null,
      "outputs": []
    }
  ],
  "metadata": {
    "colab": {
      "provenance": []
    },
    "kernelspec": {
      "display_name": "Python 3 (ipykernel)",
      "language": "python",
      "name": "python3"
    },
    "language_info": {
      "codemirror_mode": {
        "name": "ipython",
        "version": 3
      },
      "file_extension": ".py",
      "mimetype": "text/x-python",
      "name": "python",
      "nbconvert_exporter": "python",
      "pygments_lexer": "ipython3",
      "version": "3.8.16"
    }
  },
  "nbformat": 4,
  "nbformat_minor": 5
}